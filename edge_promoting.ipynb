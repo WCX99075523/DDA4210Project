{
 "cells": [
  {
   "cell_type": "code",
   "execution_count": 2,
   "metadata": {},
   "outputs": [],
   "source": [
    "from utils import edge_promoting"
   ]
  },
  {
   "cell_type": "code",
   "execution_count": 3,
   "metadata": {},
   "outputs": [
    {
     "name": "stderr",
     "output_type": "stream",
     "text": [
      "/home/chunxuan/DL/DDA4210/CartoonGAN/utils/helper.py:14: NumbaWarning: \n",
      "Compilation is falling back to object mode WITH looplifting enabled because Function \"edge_promoting\" failed type inference due to: Untyped global name 'p': Cannot determine Numba type of <class 'multiprocessing.pool.ThreadPool'>\n",
      "\n",
      "File \"utils/helper.py\", line 29:\n",
      "def edge_promoting(root, save):\n",
      "    <source elided>\n",
      "\n",
      "    for _ in p.imap_unordered(edge_job, job_args):       \n",
      "    ^\n",
      "\n",
      "  @jit\n",
      "/home/chunxuan/DL/DDA4210/CartoonGAN/utils/helper.py:14: NumbaWarning: \n",
      "Compilation is falling back to object mode WITHOUT looplifting enabled because Function \"edge_promoting\" failed type inference due to: Cannot determine Numba type of <class 'numba.core.dispatcher.LiftedLoop'>\n",
      "\n",
      "File \"utils/helper.py\", line 20:\n",
      "def edge_promoting(root, save):\n",
      "    <source elided>\n",
      "        os.makedirs(save)\n",
      "    kernel_size = 5\n",
      "    ^\n",
      "\n",
      "  @jit\n",
      "/home/chunxuan/miniconda3/envs/stforte/lib/python3.9/site-packages/numba/core/object_mode_passes.py:151: NumbaWarning: Function \"edge_promoting\" was compiled in object mode without forceobj=True, but has lifted loops.\n",
      "\n",
      "File \"utils/helper.py\", line 16:\n",
      "def edge_promoting(root, save):\n",
      "    img_size = (384, 384)\n",
      "    ^\n",
      "\n",
      "  warnings.warn(errors.NumbaWarning(warn_msg,\n",
      "/home/chunxuan/miniconda3/envs/stforte/lib/python3.9/site-packages/numba/core/object_mode_passes.py:161: NumbaDeprecationWarning: \n",
      "Fall-back from the nopython compilation path to the object mode compilation path has been detected, this is deprecated behaviour.\n",
      "\n",
      "For more information visit https://numba.readthedocs.io/en/stable/reference/deprecation.html#deprecation-of-object-mode-fall-back-behaviour-when-using-jit\n",
      "\n",
      "File \"utils/helper.py\", line 16:\n",
      "def edge_promoting(root, save):\n",
      "    img_size = (384, 384)\n",
      "    ^\n",
      "\n",
      "  warnings.warn(errors.NumbaDeprecationWarning(msg,\n",
      "/home/chunxuan/DL/DDA4210/CartoonGAN/utils/helper.py:14: NumbaWarning: \n",
      "Compilation is falling back to object mode WITHOUT looplifting enabled because Function \"edge_promoting\" failed type inference due to: Untyped global name 'p': Cannot determine Numba type of <class 'multiprocessing.pool.ThreadPool'>\n",
      "\n",
      "File \"utils/helper.py\", line 29:\n",
      "def edge_promoting(root, save):\n",
      "    <source elided>\n",
      "\n",
      "    for _ in p.imap_unordered(edge_job, job_args):       \n",
      "    ^\n",
      "\n",
      "  @jit\n",
      "/home/chunxuan/miniconda3/envs/stforte/lib/python3.9/site-packages/numba/core/object_mode_passes.py:151: NumbaWarning: Function \"edge_promoting\" was compiled in object mode without forceobj=True.\n",
      "\n",
      "File \"utils/helper.py\", line 20:\n",
      "def edge_promoting(root, save):\n",
      "    <source elided>\n",
      "        os.makedirs(save)\n",
      "    kernel_size = 5\n",
      "    ^\n",
      "\n",
      "  warnings.warn(errors.NumbaWarning(warn_msg,\n",
      "/home/chunxuan/miniconda3/envs/stforte/lib/python3.9/site-packages/numba/core/object_mode_passes.py:161: NumbaDeprecationWarning: \n",
      "Fall-back from the nopython compilation path to the object mode compilation path has been detected, this is deprecated behaviour.\n",
      "\n",
      "For more information visit https://numba.readthedocs.io/en/stable/reference/deprecation.html#deprecation-of-object-mode-fall-back-behaviour-when-using-jit\n",
      "\n",
      "File \"utils/helper.py\", line 20:\n",
      "def edge_promoting(root, save):\n",
      "    <source elided>\n",
      "        os.makedirs(save)\n",
      "    kernel_size = 5\n",
      "    ^\n",
      "\n",
      "  warnings.warn(errors.NumbaDeprecationWarning(msg,\n",
      "  0%|          | 0/101 [00:00<?, ?it/s]/home/chunxuan/DL/DDA4210/CartoonGAN/utils/helper.py:45: NumbaWarning: \n",
      "Compilation is falling back to object mode WITH looplifting enabled because Function \"edge_job\" failed type inference due to: Unknown attribute 'imread' of type Module(<module 'cv2' from '/home/chunxuan/miniconda3/envs/stforte/lib/python3.9/site-packages/cv2.cpython-39-x86_64-linux-gnu.so'>)\n",
      "\n",
      "File \"utils/helper.py\", line 49:\n",
      "def edge_job(args):\n",
      "    <source elided>\n",
      "    path, gauss, img_size, kernel, kernel_size, save, n = args\n",
      "    rgb_img = cv2.imread(path)\n",
      "    ^\n",
      "\n",
      "During: typing of get attribute at /home/chunxuan/DL/DDA4210/CartoonGAN/utils/helper.py (49)\n",
      "\n",
      "File \"utils/helper.py\", line 49:\n",
      "def edge_job(args):\n",
      "    <source elided>\n",
      "    path, gauss, img_size, kernel, kernel_size, save, n = args\n",
      "    rgb_img = cv2.imread(path)\n",
      "    ^\n",
      "\n",
      "  @jit\n",
      "/home/chunxuan/miniconda3/envs/stforte/lib/python3.9/site-packages/numba/core/object_mode_passes.py:151: NumbaWarning: Function \"edge_job\" was compiled in object mode without forceobj=True.\n",
      "\n",
      "File \"utils/helper.py\", line 46:\n",
      "@jit\n",
      "def edge_job(args):\n",
      "^\n",
      "\n",
      "  warnings.warn(errors.NumbaWarning(warn_msg,\n",
      "/home/chunxuan/miniconda3/envs/stforte/lib/python3.9/site-packages/numba/core/object_mode_passes.py:161: NumbaDeprecationWarning: \n",
      "Fall-back from the nopython compilation path to the object mode compilation path has been detected, this is deprecated behaviour.\n",
      "\n",
      "For more information visit https://numba.readthedocs.io/en/stable/reference/deprecation.html#deprecation-of-object-mode-fall-back-behaviour-when-using-jit\n",
      "\n",
      "File \"utils/helper.py\", line 46:\n",
      "@jit\n",
      "def edge_job(args):\n",
      "^\n",
      "\n",
      "  warnings.warn(errors.NumbaDeprecationWarning(msg,\n",
      "  1%|          | 1/101 [00:01<01:48,  1.08s/it]"
     ]
    },
    {
     "name": "stdout",
     "output_type": "stream",
     "text": [
      "data/Chinese_art_dataset/style_images/.DS_Store Error!\n"
     ]
    },
    {
     "name": "stderr",
     "output_type": "stream",
     "text": [
      "100%|██████████| 101/101 [00:10<00:00,  9.84it/s]\n"
     ]
    }
   ],
   "source": [
    "edge_promoting(\"data/Chinese_art_dataset/style_images\",\"data/Chinese_art_dataset/style_images_edge\")"
   ]
  },
  {
   "cell_type": "code",
   "execution_count": null,
   "metadata": {},
   "outputs": [],
   "source": []
  }
 ],
 "metadata": {
  "kernelspec": {
   "display_name": "stforte",
   "language": "python",
   "name": "python3"
  },
  "language_info": {
   "codemirror_mode": {
    "name": "ipython",
    "version": 3
   },
   "file_extension": ".py",
   "mimetype": "text/x-python",
   "name": "python",
   "nbconvert_exporter": "python",
   "pygments_lexer": "ipython3",
   "version": "3.9.16"
  },
  "orig_nbformat": 4
 },
 "nbformat": 4,
 "nbformat_minor": 2
}
