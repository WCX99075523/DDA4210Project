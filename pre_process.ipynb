{
 "cells": [
  {
   "cell_type": "code",
   "execution_count": 1,
   "metadata": {},
   "outputs": [],
   "source": [
    "import os\n",
    "import PIL\n",
    "from PIL import Image\n",
    "from tqdm import tqdm\n",
    "from utils import change_size\n",
    "from torchvision import transforms"
   ]
  },
  {
   "cell_type": "code",
   "execution_count": 4,
   "metadata": {},
   "outputs": [
    {
     "name": "stderr",
     "output_type": "stream",
     "text": [
      "100%|██████████| 128/128 [00:03<00:00, 35.11it/s]\n"
     ]
    }
   ],
   "source": [
    "l = []\n",
    "for i in tqdm(os.listdir(\"data/FemaleFaces/\")):\n",
    "    img = Image.open(os.path.join(\"data/FemaleFaces/\",i))\n",
    "    t = transforms.Compose([\n",
    "        transforms.Resize(size=(256,256)),\n",
    "        transforms.ToTensor()\n",
    "    ])\n",
    "    if t(img).size(0) != 3:\n",
    "        l.append(os.path.join(\"data/FemaleFaces/\",i))"
   ]
  },
  {
   "cell_type": "code",
   "execution_count": 5,
   "metadata": {},
   "outputs": [],
   "source": [
    "for i in l:\n",
    "    os.remove(i)"
   ]
  },
  {
   "cell_type": "code",
   "execution_count": null,
   "metadata": {},
   "outputs": [],
   "source": [
    "for i in tqdm(os.listdir(\"data/AnimeFaces\")):\n",
    "    img = Image.fromarray(change_size(os.path.join(\"data/AnimeFaces\",i)))\n",
    "    img.save(os.path.join(\"data/AnimeFaces_Refined/\",i))"
   ]
  },
  {
   "cell_type": "code",
   "execution_count": null,
   "metadata": {},
   "outputs": [],
   "source": []
  }
 ],
 "metadata": {
  "kernelspec": {
   "display_name": "stforte",
   "language": "python",
   "name": "python3"
  },
  "language_info": {
   "codemirror_mode": {
    "name": "ipython",
    "version": 3
   },
   "file_extension": ".py",
   "mimetype": "text/x-python",
   "name": "python",
   "nbconvert_exporter": "python",
   "pygments_lexer": "ipython3",
   "version": "3.9.16"
  },
  "orig_nbformat": 4
 },
 "nbformat": 4,
 "nbformat_minor": 2
}
